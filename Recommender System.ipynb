{
 "cells": [
  {
   "cell_type": "markdown",
   "id": "36329469",
   "metadata": {},
   "source": [
    "# <center> Week - 10 Assignment - Recommender System\n",
    "\n",
    "<center> DSC-630\n",
    "\n",
    "<center> Kalyan Pothineni"
   ]
  },
  {
   "cell_type": "markdown",
   "id": "3d7a9567",
   "metadata": {},
   "source": [
    "## Introduction\n",
    "\n",
    "Recommender systems have become essential to our online experiences, guiding us toward products, services, and content that we might enjoy. One popular application is movie recommendation, where systems suggest movies based on our past preferences. This project aims to build a movie recommender system using the MovieLens dataset, which contains user ratings for various movies."
   ]
  },
  {
   "cell_type": "markdown",
   "id": "d44bf12d",
   "metadata": {},
   "source": [
    "### Dataset Description\n",
    "\n",
    "The dataset used in this project is the MovieLens dataset, which includes:\n",
    "\n",
    "- ratings.csv: Contains user ratings for movies.\n",
    "- movies.csv: Contains movie titles and genres.\n",
    "- tags.csv: Contains user-generated tags for movies.\n",
    "- links.csv: Contains links to other movie databases."
   ]
  },
  {
   "cell_type": "markdown",
   "id": "5dab6d6d",
   "metadata": {},
   "source": [
    "### Steps and Process\n",
    "\n",
    "1. Load and Analyze the Data\n",
    "2. Data Preprocessing\n",
    "3. Exploratory Data Analysis (EDA)\n",
    "4. Building the Recommender System\n",
    "5. Evaluation\n",
    "6. Final Recommendations"
   ]
  },
  {
   "cell_type": "markdown",
   "id": "ba932c37",
   "metadata": {},
   "source": [
    "## Implementation"
   ]
  },
  {
   "cell_type": "markdown",
   "id": "a96c8ef8",
   "metadata": {},
   "source": [
    "### Data Loading\n",
    "\n",
    "We start by loading the data from the CSV files and examining their structure."
   ]
  },
  {
   "cell_type": "code",
   "execution_count": 1,
   "id": "5b3a25ab",
   "metadata": {},
   "outputs": [
    {
     "name": "stdout",
     "output_type": "stream",
     "text": [
      "-------------------------------------------------\n",
      "   userId  movieId  rating  timestamp\n",
      "0       1        1     4.0  964982703\n",
      "1       1        3     4.0  964981247\n",
      "2       1        6     4.0  964982224\n",
      "3       1       47     5.0  964983815\n",
      "4       1       50     5.0  964982931\n",
      "-------------------------------------------------\n",
      "   movieId                               title  \\\n",
      "0        1                    Toy Story (1995)   \n",
      "1        2                      Jumanji (1995)   \n",
      "2        3             Grumpier Old Men (1995)   \n",
      "3        4            Waiting to Exhale (1995)   \n",
      "4        5  Father of the Bride Part II (1995)   \n",
      "\n",
      "                                        genres  \n",
      "0  Adventure|Animation|Children|Comedy|Fantasy  \n",
      "1                   Adventure|Children|Fantasy  \n",
      "2                               Comedy|Romance  \n",
      "3                         Comedy|Drama|Romance  \n",
      "4                                       Comedy  \n",
      "-------------------------------------------------\n",
      "   userId  movieId              tag   timestamp\n",
      "0       2    60756            funny  1445714994\n",
      "1       2    60756  Highly quotable  1445714996\n",
      "2       2    60756     will ferrell  1445714992\n",
      "3       2    89774     Boxing story  1445715207\n",
      "4       2    89774              MMA  1445715200\n",
      "-------------------------------------------------\n",
      "   movieId  imdbId   tmdbId\n",
      "0        1  114709    862.0\n",
      "1        2  113497   8844.0\n",
      "2        3  113228  15602.0\n",
      "3        4  114885  31357.0\n",
      "4        5  113041  11862.0\n"
     ]
    }
   ],
   "source": [
    "# Load libraries as needed\n",
    "import pandas as pd\n",
    "import numpy as np\n",
    "from sklearn.metrics.pairwise import cosine_similarity\n",
    "from sklearn.model_selection import train_test_split\n",
    "from difflib import get_close_matches\n",
    "\n",
    "# Load the datasets\n",
    "ratings = pd.read_csv('ratings.csv')\n",
    "movies = pd.read_csv('movies.csv')\n",
    "tags = pd.read_csv('tags.csv')\n",
    "links = pd.read_csv('links.csv')\n",
    "\n",
    "# Display the first few rows of each dataframe\n",
    "print('-------------------------------------------------')\n",
    "print(ratings.head())\n",
    "print('-------------------------------------------------')\n",
    "print(movies.head())\n",
    "print('-------------------------------------------------')\n",
    "print(tags.head())\n",
    "print('-------------------------------------------------')\n",
    "print(links.head())"
   ]
  },
  {
   "cell_type": "markdown",
   "id": "984d39e7",
   "metadata": {},
   "source": [
    "- In this step, we load the MovieLens datasets into pandas DataFrames and display their first few rows. This provides us with an initial understanding of the data structure and content, including user ratings, movie titles, tags, and links to external movie databases."
   ]
  },
  {
   "cell_type": "markdown",
   "id": "7a1cbbc0",
   "metadata": {},
   "source": [
    "### Data Processing\n",
    "\n",
    "Preprocess the data to handle missing values and ensure it is in a suitable format"
   ]
  },
  {
   "cell_type": "code",
   "execution_count": 2,
   "id": "c87d31ee",
   "metadata": {
    "scrolled": true
   },
   "outputs": [
    {
     "name": "stdout",
     "output_type": "stream",
     "text": [
      "userId       0\n",
      "movieId      0\n",
      "rating       0\n",
      "timestamp    0\n",
      "dtype: int64\n",
      "movieId    0\n",
      "title      0\n",
      "genres     0\n",
      "dtype: int64\n",
      "userId       0\n",
      "movieId      0\n",
      "tag          0\n",
      "timestamp    0\n",
      "dtype: int64\n",
      "movieId    0\n",
      "imdbId     0\n",
      "tmdbId     8\n",
      "dtype: int64\n"
     ]
    }
   ],
   "source": [
    "# Check for missing values\n",
    "print(ratings.isnull().sum())\n",
    "print(movies.isnull().sum())\n",
    "print(tags.isnull().sum())\n",
    "print(links.isnull().sum())"
   ]
  },
  {
   "cell_type": "code",
   "execution_count": 3,
   "id": "012c62c2",
   "metadata": {},
   "outputs": [],
   "source": [
    "# Drop rows with missing values (if any)\n",
    "ratings.dropna(inplace=True)\n",
    "movies.dropna(inplace=True)\n",
    "tags.dropna(inplace=True)\n",
    "links.dropna(inplace=True)"
   ]
  },
  {
   "cell_type": "code",
   "execution_count": 4,
   "id": "a4f35099",
   "metadata": {},
   "outputs": [],
   "source": [
    "# Convert timestamp to datetime in ratings and tags\n",
    "ratings['timestamp'] = pd.to_datetime(ratings['timestamp'], unit='s')\n",
    "tags['timestamp'] = pd.to_datetime(tags['timestamp'], unit='s')"
   ]
  },
  {
   "cell_type": "code",
   "execution_count": 5,
   "id": "e20b8d6e",
   "metadata": {},
   "outputs": [],
   "source": [
    "# Merge ratings and movies dataframes on movieId\n",
    "movie_ratings = pd.merge(ratings, movies, on='movieId')\n",
    "\n",
    "# Normalize movie titles in the dataset\n",
    "movies['title_normalized'] = movies['title'].str.lower().str.strip()\n",
    "movie_titles_normalized = movies['title_normalized'].tolist()"
   ]
  },
  {
   "cell_type": "markdown",
   "id": "f3abdd49",
   "metadata": {},
   "source": [
    "- During data preprocessing, we check for and handle any missing values, ensuring the data is clean. Additionally, we convert timestamps to a more interpretable datetime format. Finally, we merge the ratings and movies datasets to facilitate easier analysis and recommendation generation."
   ]
  },
  {
   "cell_type": "markdown",
   "id": "780fc3ee",
   "metadata": {},
   "source": [
    "### Exploratory Data Analysis"
   ]
  },
  {
   "cell_type": "code",
   "execution_count": 6,
   "id": "41ba4a1e",
   "metadata": {},
   "outputs": [
    {
     "data": {
      "image/png": "[encoded data removed]",
      "text/plain": [
       "<Figure size 640x480 with 1 Axes>"
      ]
     },
     "metadata": {},
     "output_type": "display_data"
    },
    {
     "name": "stdout",
     "output_type": "stream",
     "text": [
      "title\n",
      "Forrest Gump (1994)                          329\n",
      "Shawshank Redemption, The (1994)             317\n",
      "Pulp Fiction (1994)                          307\n",
      "Silence of the Lambs, The (1991)             279\n",
      "Matrix, The (1999)                           278\n",
      "Star Wars: Episode IV - A New Hope (1977)    251\n",
      "Jurassic Park (1993)                         238\n",
      "Braveheart (1995)                            237\n",
      "Terminator 2: Judgment Day (1991)            224\n",
      "Schindler's List (1993)                      220\n",
      "dtype: int64\n"
     ]
    }
   ],
   "source": [
    "# Load the libraries as needed\n",
    "import matplotlib.pyplot as plt\n",
    "\n",
    "# Distribution of ratings\n",
    "plt.hist(movie_ratings['rating'], bins=20)\n",
    "plt.xlabel('Rating')\n",
    "plt.ylabel('Count')\n",
    "plt.title('Distribution of Ratings')\n",
    "plt.show()\n",
    "\n",
    "# Top 10 most rated movies\n",
    "most_rated = movie_ratings.groupby('title').size().sort_values(ascending=False)[:10]\n",
    "print(most_rated)\n"
   ]
  },
  {
   "cell_type": "markdown",
   "id": "78a90644",
   "metadata": {},
   "source": [
    "- The histogram illustrates the distribution of movie ratings, showing that the ratings are somewhat bimodal, with the highest frequency of ratings being 4, followed by 5. Ratings of 1 are the least common. This suggests that viewers generally favored the movies included in this dataset.\n",
    "\n",
    "- The list of top 10 most rated movies is led by \"Forrest Gump (1994)\" with 329 ratings, indicating its popularity among viewers. Other highly rated titles include \"Shawshank Redemption, The (1994)\" and \"Pulp Fiction (1994),\" highlighting a strong preference for critically acclaimed films from the mid-1990s."
   ]
  },
  {
   "cell_type": "markdown",
   "id": "75a9b7a8",
   "metadata": {},
   "source": [
    "### Build Recommender System"
   ]
  },
  {
   "cell_type": "code",
   "execution_count": 7,
   "id": "e73f73d9",
   "metadata": {},
   "outputs": [],
   "source": [
    "# Create a user-item matrix\n",
    "user_item_matrix = movie_ratings.pivot_table(index='userId', columns='title', values='rating')\n",
    "user_item_matrix.fillna(0, inplace=True)\n",
    "\n",
    "# Split the data into training and test sets\n",
    "train_data, test_data = train_test_split(movie_ratings, test_size=0.2, random_state=42)\n",
    "\n",
    "# Create user-item matrices for train and test sets\n",
    "train_matrix = train_data.pivot_table(index='userId', columns='title', values='rating').fillna(0)\n",
    "test_matrix = test_data.pivot_table(index='userId', columns='title', values='rating').fillna(0)\n",
    "\n",
    "# Ensure the training matrix and test matrix have the same columns\n",
    "common_movies = user_item_matrix.columns.intersection(train_matrix.columns).intersection(test_matrix.columns)\n",
    "\n",
    "# Filter the training and test matrices to have only common movies\n",
    "train_matrix_filtered = train_matrix[common_movies]\n",
    "test_matrix_filtered = test_matrix[common_movies]\n",
    "\n",
    "# Compute cosine similarity between movies\n",
    "movie_similarity = cosine_similarity(train_matrix_filtered.T)\n",
    "movie_similarity_df = pd.DataFrame(movie_similarity, index=train_matrix_filtered.columns, columns=train_matrix_filtered.columns)\n"
   ]
  },
  {
   "cell_type": "markdown",
   "id": "3e90f2e6",
   "metadata": {},
   "source": [
    "- Creating user-item matrices for the dataset, split the data into training and test sets, filter to include only common movies, and compute cosine similarity between movies to generate a similarity matrix for recommendations."
   ]
  },
  {
   "cell_type": "code",
   "execution_count": 8,
   "id": "cc0a86c3",
   "metadata": {},
   "outputs": [],
   "source": [
    "# Function to get recommendations\n",
    "def get_recommendations(movie_title, num_recommendations=10):\n",
    "    if movie_title not in movie_similarity_df.columns:\n",
    "        return f\"Movie '{movie_title}' not found in the dataset.\"\n",
    "    similar_movies = movie_similarity_df[movie_title].sort_values(ascending=False)[1:num_recommendations+1]\n",
    "    return similar_movies.index.tolist()"
   ]
  },
  {
   "cell_type": "markdown",
   "id": "7d849638",
   "metadata": {},
   "source": [
    "- This function retrieves movie recommendations by finding the most similar movies to a given title using the movie similarity matrix, returning the top matches. If the movie is not found, it notifies the user."
   ]
  },
  {
   "cell_type": "code",
   "execution_count": 9,
   "id": "8b05e65d",
   "metadata": {},
   "outputs": [],
   "source": [
    "# Function to find the closest movie title\n",
    "def find_closest_movie_title(user_input):\n",
    "    user_input_normalized = user_input.lower().strip()\n",
    "    close_matches = get_close_matches(user_input_normalized, movie_titles_normalized, n=1, cutoff=0.6)\n",
    "    if close_matches:\n",
    "        return movies[movies['title_normalized'] == close_matches[0]]['title'].values[0]\n",
    "    else:\n",
    "        return None"
   ]
  },
  {
   "cell_type": "markdown",
   "id": "3d79a297",
   "metadata": {},
   "source": [
    "- This function normalizes the user's input, finds the closest matching movie title from the dataset using difflib.get_close_matches, and returns the best match. If no close match is found, it returns None."
   ]
  },
  {
   "cell_type": "code",
   "execution_count": 10,
   "id": "6913b543",
   "metadata": {},
   "outputs": [],
   "source": [
    "# Function to get recommendations based on user input\n",
    "def get_recommendations_for_user_input(user_input):\n",
    "    closest_movie_title = find_closest_movie_title(user_input)\n",
    "    if closest_movie_title:\n",
    "        recommendations = get_recommendations(closest_movie_title)\n",
    "        if isinstance(recommendations, str):\n",
    "            print(recommendations)\n",
    "        else:\n",
    "            print(f\"Movies recommended for you based on '{closest_movie_title}':\")\n",
    "            print(\"=============================================================\")\n",
    "            for movie in recommendations:\n",
    "                print(movie)\n",
    "        return True\n",
    "    else:\n",
    "        print(f\"No match found for '{user_input}'. Please try again.\")\n",
    "        return False"
   ]
  },
  {
   "cell_type": "markdown",
   "id": "228a9aff",
   "metadata": {},
   "source": [
    "- This function takes user input to find the closest matching movie title in the dataset. If a match is found, it retrieves and prints movie recommendations based on the matched title. If no match is found, it informs the user and prompts them to try again. The function returns True if recommendations are successfully retrieved, and False otherwise."
   ]
  },
  {
   "cell_type": "markdown",
   "id": "d0bb7925",
   "metadata": {},
   "source": [
    "### Evaluation"
   ]
  },
  {
   "cell_type": "code",
   "execution_count": 13,
   "id": "faa70b49",
   "metadata": {},
   "outputs": [
    {
     "name": "stdout",
     "output_type": "stream",
     "text": [
      "Root Mean Squared Error: 3.5293680754241508\n"
     ]
    }
   ],
   "source": [
    "# Load the libraries as needed\n",
    "from sklearn.metrics import mean_squared_error\n",
    "\n",
    "# Function to compute predictions using similarity matrix\n",
    "def predict_ratings(user_item_matrix, similarity_matrix):\n",
    "    norm_similarity = similarity_matrix / np.array([np.abs(similarity_matrix).sum(axis=1)])\n",
    "    return np.dot(user_item_matrix, norm_similarity)\n",
    "\n",
    "# Ensure the training matrix and test matrix have the same columns as the similarity matrix\n",
    "common_movies = common_movies.intersection(train_matrix.columns).intersection(test_matrix.columns)\n",
    "\n",
    "# Filter the training and test matrices to have only common movies\n",
    "train_matrix_filtered = train_matrix[common_movies]\n",
    "test_matrix_filtered = test_matrix[common_movies]\n",
    "\n",
    "# Filter the similarity matrix to have only common movies\n",
    "movie_similarity_filtered = movie_similarity_df.loc[common_movies, common_movies].values\n",
    "\n",
    "# Compute predictions\n",
    "train_predictions = predict_ratings(train_matrix_filtered.values, movie_similarity_filtered)\n",
    "test_predictions = predict_ratings(test_matrix_filtered.values, movie_similarity_filtered)\n",
    "\n",
    "# Get the actual ratings and predicted ratings for the test set\n",
    "actual_ratings = test_matrix_filtered.values[test_matrix_filtered.values.nonzero()].flatten()\n",
    "predicted_ratings = test_predictions[test_matrix_filtered.values.nonzero()].flatten()\n",
    "\n",
    "# Compute RMSE\n",
    "rmse = np.sqrt(mean_squared_error(actual_ratings, predicted_ratings))\n",
    "print(f'Root Mean Squared Error: {rmse}')\n"
   ]
  },
  {
   "cell_type": "markdown",
   "id": "6a0e6c4e",
   "metadata": {},
   "source": [
    "The Root Mean Squared Error (RMSE) for our recommender system is 3.507. RMSE measures the average magnitude of the prediction errors, with lower values indicating better accuracy. In this context, an RMSE of 3.507 means that, on average, the predicted movie ratings deviate from the actual ratings by approximately 3.5 stars.\n",
    "\n",
    "This relatively high RMSE suggests that our basic collaborative filtering model may not be capturing the intricacies of user preferences and movie similarities effectively. Factors contributing to this high error could include the sparsity of the rating matrix, the simplicity of the similarity computation, and the potential presence of user and item biases.\n",
    "\n",
    "To improve the accuracy of the recommender system, we could explore more advanced techniques such as matrix factorization (e.g., Singular Value Decomposition) or hybrid methods that combine collaborative filtering with content-based approaches. Additionally, incorporating normalization techniques and tuning model parameters could further enhance the model's performance and reduce the RMSE."
   ]
  },
  {
   "cell_type": "markdown",
   "id": "1bb18357",
   "metadata": {},
   "source": [
    "### Final Recommendations"
   ]
  },
  {
   "cell_type": "markdown",
   "id": "fc073652",
   "metadata": {},
   "source": [
    "In the final step, we enable user interaction with the recommender system. Users can input a movie they like, and the system provides ten recommendations based on their input. This practical application showcases the utility of our recommender system in providing personalized movie suggestions."
   ]
  },
  {
   "cell_type": "code",
   "execution_count": 14,
   "id": "3da7cd47",
   "metadata": {},
   "outputs": [
    {
     "name": "stdout",
     "output_type": "stream",
     "text": [
      "Do you want to enter a movie name? (yes/no): yes\n",
      "Enter a movie you like: casper\n",
      "Movies recommended for you based on 'Casper (1995)':\n",
      "=============================================================\n",
      "Pocahontas (1995)\n",
      "City Slickers II: The Legend of Curly's Gold (1994)\n",
      "Tombstone (1993)\n",
      "Santa Clause, The (1994)\n",
      "Indian in the Cupboard, The (1995)\n",
      "Pinocchio (1940)\n",
      "Flintstones, The (1994)\n",
      "Addams Family Values (1993)\n",
      "Robin Hood: Men in Tights (1993)\n",
      "Lion King, The (1994)\n",
      "Do you want to enter a movie name? (yes/no): yes\n",
      "Enter a movie you like: JuMANji\n",
      "Movies recommended for you based on 'Jumanji (1995)':\n",
      "=============================================================\n",
      "Mask, The (1994)\n",
      "Lion King, The (1994)\n",
      "Mrs. Doubtfire (1993)\n",
      "Home Alone (1990)\n",
      "Waterworld (1995)\n",
      "Jurassic Park (1993)\n",
      "Santa Clause, The (1994)\n",
      "Stargate (1994)\n",
      "Net, The (1995)\n",
      "Die Hard: With a Vengeance (1995)\n",
      "Do you want to enter a movie name? (yes/no): no\n",
      "Exiting the recommendation system.\n"
     ]
    }
   ],
   "source": [
    "# User input for interactive mode with retry mechanism and option to exit\n",
    "while True:\n",
    "    user_decision = input(\"Do you want to enter a movie name? (yes/no): \").strip().lower()\n",
    "    if user_decision == 'no':\n",
    "        print(\"Exiting the recommendation system.\")\n",
    "        break\n",
    "    elif user_decision == 'yes':\n",
    "        while True:\n",
    "            user_movie = input(\"Enter a movie you like: \")\n",
    "            if get_recommendations_for_user_input(user_movie):\n",
    "                break\n",
    "            else:\n",
    "                print(\"Entry did not match. Please enter a valid movie name.\")\n",
    "    else:\n",
    "        print(\"Invalid input. Please enter 'yes' or 'no'.\")"
   ]
  },
  {
   "cell_type": "markdown",
   "id": "ee71564e",
   "metadata": {},
   "source": [
    "## Conclusion \n",
    "\n",
    "In this project, we successfully built a movie recommender system using the MovieLens dataset. The system uses collaborative filtering to recommend movies based on user ratings. We evaluated the system's performance using RMSE, which provides an estimate of the accuracy of the recommendations. The system allows users to input a movie they like and receive ten recommendations for other movies to watch. This project demonstrates the effectiveness of collaborative filtering in building a functional recommender system."
   ]
  },
  {
   "cell_type": "markdown",
   "id": "fbeab4a7",
   "metadata": {},
   "source": [
    "## References\n",
    "- MovieLens Dataset: https://grouplens.org/datasets/movielens/\n",
    "- F. Maxwell Harper and Joseph A. Konstan. 2015. The MovieLens Datasets: History and Context. ACM Transactions on Interactive intelligent Systems (TiiS) 5, 4: 19:1–19:19. https://doi.org/10.1145/2827872"
   ]
  }
 ],
 "metadata": {
  "kernelspec": {
   "display_name": "Python 3 (ipykernel)",
   "language": "python",
   "name": "python3"
  },
  "language_info": {
   "codemirror_mode": {
    "name": "ipython",
    "version": 3
   },
   "file_extension": ".py",
   "mimetype": "text/x-python",
   "name": "python",
   "nbconvert_exporter": "python",
   "pygments_lexer": "ipython3",
   "version": "3.10.9"
  }
 },
 "nbformat": 4,
 "nbformat_minor": 5
}
